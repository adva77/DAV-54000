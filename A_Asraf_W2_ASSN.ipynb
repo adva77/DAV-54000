{
 "cells": [
  {
   "cell_type": "code",
   "execution_count": 1,
   "metadata": {},
   "outputs": [
    {
     "name": "stdout",
     "output_type": "stream",
     "text": [
      "['high', 'high', '2', '4', 'med', 'low', 'unacc']\n",
      "['high', 'high', '4', 'more', 'small', 'high', 'acc']\n",
      "['high', 'high', '4', 'more', 'big', 'low', 'unacc']\n",
      "['high', 'low', '2', 'more', 'big', 'high', 'acc']\n",
      "['vhigh', 'low', '3', '2', 'med', 'med', 'unacc']\n",
      "['low', 'high', '2', '2', 'small', 'low', 'unacc']\n",
      "['med', 'med', '4', 'more', 'med', 'high', 'vgood']\n",
      "['low', 'low', '3', '2', 'big', 'med', 'unacc']\n",
      "['vhigh', 'low', '2', '2', 'small', 'low', 'unacc']\n",
      "['vhigh', 'high', '4', '4', 'med', 'low', 'unacc']\n",
      "['low', 'low', '2', '2', 'med', 'med', 'unacc']\n",
      "['vhigh', 'low', '4', 'more', 'small', 'high', 'acc']\n",
      "['high', 'low', '2', '4', 'big', 'med', 'acc']\n",
      "['low', 'vhigh', '3', 'more', 'big', 'low', 'unacc']\n",
      "['high', 'low', '5more', '2', 'big', 'med', 'unacc']\n",
      "['vhigh', 'high', '2', 'more', 'med', 'high', 'unacc']\n",
      "['med', 'med', '2', '2', 'small', 'low', 'unacc']\n",
      "['high', 'low', '5more', '4', 'med', 'high', 'acc']\n",
      "['low', 'low', '3', 'more', 'med', 'high', 'vgood']\n",
      "['low', 'low', '2', '2', 'big', 'med', 'unacc']\n",
      "['med', 'high', '4', '2', 'big', 'high', 'unacc']\n",
      "['low', 'low', '2', '2', 'small', 'high', 'unacc']\n",
      "['vhigh', 'high', '5more', '4', 'med', 'med', 'unacc']\n",
      "['med', 'vhigh', '2', '2', 'big', 'low', 'unacc']\n",
      "['low', 'vhigh', '4', '4', 'big', 'low', 'unacc']\n",
      "['vhigh', 'low', '3', 'more', 'big', 'low', 'unacc']\n",
      "['med', 'vhigh', '3', '4', 'small', 'low', 'unacc']\n",
      "['high', 'high', '3', '4', 'med', 'med', 'unacc']\n",
      "['low', 'high', '5more', '2', 'big', 'low', 'unacc']\n",
      "['med', 'high', '5more', '2', 'med', 'med', 'unacc']\n",
      "['high', 'low', '3', '4', 'med', 'high', 'acc']\n",
      "['high', 'vhigh', '5more', '4', 'med', 'med', 'unacc']\n",
      "['low', 'low', '5more', '2', 'med', 'low', 'unacc']\n",
      "['vhigh', 'vhigh', '4', '2', 'big', 'high', 'unacc']\n",
      "['high', 'low', '3', '2', 'big', 'high', 'unacc']\n"
     ]
    }
   ],
   "source": [
    "import csv\n",
    "with open(r'/Users/AdvaAsraf/Desktop/Analytics Programming/cars-sample35.txt') as csvfile:\n",
    "    readCSV = csv.reader(csvfile)\n",
    "    for row in readCSV:\n",
    "# print each row as read by the csv.reader function\n",
    "        print(row)"
   ]
  },
  {
   "cell_type": "code",
   "execution_count": 6,
   "metadata": {},
   "outputs": [
    {
     "name": "stdout",
     "output_type": "stream",
     "text": [
      "['high', 'high', 'high', 'high', 'vhigh', 'low', 'med', 'low', 'vhigh', 'vhigh', 'low', 'vhigh', 'high', 'low', 'high', 'vhigh', 'med', 'high', 'low', 'low', 'med', 'low', 'vhigh', 'med', 'low', 'vhigh', 'med', 'high', 'low', 'med', 'high', 'high', 'low', 'vhigh', 'high']\n"
     ]
    }
   ],
   "source": [
    "#print 1st element in every row and create a new list \n",
    "\n",
    "price_list=[]\n",
    "\n",
    "import csv\n",
    "with open(r'/Users/AdvaAsraf/Desktop/Analytics Programming/cars-sample35.txt') as csvfile:\n",
    "    readCSV = csv.reader(csvfile)\n",
    "    for row in readCSV: \n",
    "        price_list.append(row[0])\n",
    "\n",
    "print(price_list)"
   ]
  },
  {
   "cell_type": "code",
   "execution_count": 8,
   "metadata": {},
   "outputs": [
    {
     "name": "stdout",
     "output_type": "stream",
     "text": [
      "['high', 'high', 'high', 'low', 'low', 'high', 'med', 'low', 'low', 'high', 'low', 'low', 'low', 'vhigh', 'low', 'high', 'med', 'low', 'low', 'low', 'high', 'low', 'high', 'vhigh', 'vhigh', 'low', 'vhigh', 'high', 'high', 'high', 'low', 'vhigh', 'low', 'vhigh', 'low']\n"
     ]
    }
   ],
   "source": [
    "#print 2nd element in every row and create a new list \n",
    "\n",
    "maintenance_list=[]\n",
    "\n",
    "import csv\n",
    "with open(r'/Users/AdvaAsraf/Desktop/Analytics Programming/cars-sample35.txt') as csvfile:\n",
    "    readCSV = csv.reader(csvfile)\n",
    "    for row in readCSV: \n",
    "        maintenance_list.append(row[1])\n",
    "\n",
    "print(maintenance_list)"
   ]
  },
  {
   "cell_type": "code",
   "execution_count": 10,
   "metadata": {},
   "outputs": [
    {
     "name": "stdout",
     "output_type": "stream",
     "text": [
      "['2', '4', '4', '2', '3', '2', '4', '3', '2', '4', '2', '4', '2', '3', '5more', '2', '2', '5more', '3', '2', '4', '2', '5more', '2', '4', '3', '3', '3', '5more', '5more', '3', '5more', '5more', '4', '3']\n"
     ]
    }
   ],
   "source": [
    "#print 3rd element in every row and create a new list \n",
    "\n",
    "door_list=[]\n",
    "\n",
    "import csv\n",
    "with open(r'/Users/AdvaAsraf/Desktop/Analytics Programming/cars-sample35.txt') as csvfile:\n",
    "    readCSV = csv.reader(csvfile)\n",
    "    for row in readCSV: \n",
    "        door_list.append(row[2])\n",
    "\n",
    "print(door_list)"
   ]
  },
  {
   "cell_type": "code",
   "execution_count": 11,
   "metadata": {},
   "outputs": [
    {
     "name": "stdout",
     "output_type": "stream",
     "text": [
      "['4', 'more', 'more', 'more', '2', '2', 'more', '2', '2', '4', '2', 'more', '4', 'more', '2', 'more', '2', '4', 'more', '2', '2', '2', '4', '2', '4', 'more', '4', '4', '2', '2', '4', '4', '2', '2', '2']\n"
     ]
    }
   ],
   "source": [
    "#print 4th element in every row and create a new list \n",
    "\n",
    "passengers_list=[]\n",
    "\n",
    "import csv\n",
    "with open(r'/Users/AdvaAsraf/Desktop/Analytics Programming/cars-sample35.txt') as csvfile:\n",
    "    readCSV = csv.reader(csvfile)\n",
    "    for row in readCSV: \n",
    "        passengers_list.append(row[3])\n",
    "\n",
    "print(passengers_list)"
   ]
  },
  {
   "cell_type": "code",
   "execution_count": 12,
   "metadata": {},
   "outputs": [
    {
     "name": "stdout",
     "output_type": "stream",
     "text": [
      "['med', 'small', 'big', 'big', 'med', 'small', 'med', 'big', 'small', 'med', 'med', 'small', 'big', 'big', 'big', 'med', 'small', 'med', 'med', 'big', 'big', 'small', 'med', 'big', 'big', 'big', 'small', 'med', 'big', 'med', 'med', 'med', 'med', 'big', 'big']\n"
     ]
    }
   ],
   "source": [
    "#print 5th element in every row and create a new list \n",
    "\n",
    "luggage_list=[]\n",
    "\n",
    "import csv\n",
    "with open(r'/Users/AdvaAsraf/Desktop/Analytics Programming/cars-sample35.txt') as csvfile:\n",
    "    readCSV = csv.reader(csvfile)\n",
    "    for row in readCSV: \n",
    "        luggage_list.append(row[4])\n",
    "\n",
    "print(luggage_list)"
   ]
  },
  {
   "cell_type": "code",
   "execution_count": 13,
   "metadata": {},
   "outputs": [
    {
     "name": "stdout",
     "output_type": "stream",
     "text": [
      "['low', 'high', 'low', 'high', 'med', 'low', 'high', 'med', 'low', 'low', 'med', 'high', 'med', 'low', 'med', 'high', 'low', 'high', 'high', 'med', 'high', 'high', 'med', 'low', 'low', 'low', 'low', 'med', 'low', 'med', 'high', 'med', 'low', 'high', 'high']\n"
     ]
    }
   ],
   "source": [
    "#print 6th element in every row and create a new list \n",
    "\n",
    "safety_list=[]\n",
    "\n",
    "import csv\n",
    "with open(r'/Users/AdvaAsraf/Desktop/Analytics Programming/cars-sample35.txt') as csvfile:\n",
    "    readCSV = csv.reader(csvfile)\n",
    "    for row in readCSV: \n",
    "        safety_list.append(row[5])\n",
    "\n",
    "print(safety_list)"
   ]
  },
  {
   "cell_type": "code",
   "execution_count": 14,
   "metadata": {},
   "outputs": [
    {
     "name": "stdout",
     "output_type": "stream",
     "text": [
      "['unacc', 'acc', 'unacc', 'acc', 'unacc', 'unacc', 'vgood', 'unacc', 'unacc', 'unacc', 'unacc', 'acc', 'acc', 'unacc', 'unacc', 'unacc', 'unacc', 'acc', 'vgood', 'unacc', 'unacc', 'unacc', 'unacc', 'unacc', 'unacc', 'unacc', 'unacc', 'unacc', 'unacc', 'unacc', 'acc', 'unacc', 'unacc', 'unacc', 'unacc']\n"
     ]
    }
   ],
   "source": [
    "#print 7th element in every row and create a new list \n",
    "\n",
    "classification_list=[]\n",
    "\n",
    "import csv\n",
    "with open(r'/Users/AdvaAsraf/Desktop/Analytics Programming/cars-sample35.txt') as csvfile:\n",
    "    readCSV = csv.reader(csvfile)\n",
    "    for row in readCSV: \n",
    "        classification_list.append(row[6])\n",
    "\n",
    "print(classification_list)"
   ]
  },
  {
   "cell_type": "code",
   "execution_count": 50,
   "metadata": {},
   "outputs": [
    {
     "name": "stdout",
     "output_type": "stream",
     "text": [
      "The index of cars with medium price is: [[6, 16, 20, 23, 26, 29, 41, 51]]\n"
     ]
    }
   ],
   "source": [
    "#Question 2 - finding the index values of the medium in the price_list created in question #1\n",
    "\n",
    "medium_list=[]\n",
    "\n",
    "medium_list.append([i for i, n in enumerate(price_list) if n == 'med'])\n",
    "\n",
    "print('The index of cars with medium price is:', medium_list)"
   ]
  },
  {
   "cell_type": "code",
   "execution_count": 82,
   "metadata": {},
   "outputs": [
    {
     "name": "stdout",
     "output_type": "stream",
     "text": [
      "The number of passengers for automobile with a price rating of medium are: ['more', '2', '2', '2', '4', '2']\n"
     ]
    }
   ],
   "source": [
    "#Question 3- finding the number of passengers index values for the automobile that have \n",
    "#a price rating of 'med'. since the index numbers are simillar in every list, I pulled up the \n",
    "#index values that were found about for the passengers_list and created a new list called \n",
    "#medium_price_passengers\n",
    "\n",
    "medium_price_passengers=[]\n",
    "\n",
    "medium_price_passengers.append(passengers_list[6])\n",
    "medium_price_passengers.append(passengers_list[16])\n",
    "medium_price_passengers.append(passengers_list[20])\n",
    "medium_price_passengers.append(passengers_list[23])\n",
    "medium_price_passengers.append(passengers_list[26])\n",
    "medium_price_passengers.append(passengers_list[29])\n",
    "\n",
    "\n",
    "\n",
    "print('The number of passengers for automobile with a price rating of medium are:',medium_price_passengers)"
   ]
  },
  {
   "cell_type": "code",
   "execution_count": 141,
   "metadata": {},
   "outputs": [
    {
     "name": "stdout",
     "output_type": "stream",
     "text": [
      "[0, 1, 2, 27, 31]\n"
     ]
    }
   ],
   "source": [
    "#Question 4\n",
    "\n",
    "#finding the index values of automobile with price rating high and maintenance cost of NOT low\n",
    "\n",
    "\n",
    "import csv\n",
    "\n",
    "with open(r'/Users/AdvaAsraf/Desktop/Analytics Programming/cars-sample35.txt') as csvfile:\n",
    "    readCSV = csv.reader(csvfile) \n",
    "    price = 'high' \n",
    "    maintenance_Value = 'low'\n",
    "    \n",
    "    answer_4= []\n",
    "\n",
    "\n",
    "    for index, row in enumerate(readCSV):   \n",
    "        if row[0] == price and row[1] != maintenance_Value:#setting the price to high anf maintenance value of NOT low\n",
    "           answer_4.append(index)\n",
    "    print(answer_4)    \n",
    "        "
   ]
  },
  {
   "cell_type": "code",
   "execution_count": 143,
   "metadata": {},
   "outputs": [
    {
     "name": "stdout",
     "output_type": "stream",
     "text": [
      "[2, 4, 4, 2, 3, 2, 4, 3, 2, 4, 2, 4, 2, 3, 5, 2, 2, 5, 3, 2, 4, 2, 5, 2, 4, 3, 3, 3, 5, 5, 3, 5, 5, 4, 3]\n"
     ]
    }
   ],
   "source": [
    "#Question 5\n",
    "#Finding the index values of automobile with 2 doors and luggage value of big \n",
    "\n",
    "with open(r'/Users/AdvaAsraf/Desktop/Analytics Programming/cars-sample35.txt') as csvfile:\n",
    "    readCSV = csv.reader(csvfile)\n",
    "    \n",
    "    answer_5 = []\n",
    "    \n",
    "    for row in readCSV: \n",
    "       \n",
    "        Number_doors = row[2]  \n",
    "        \n",
    "        answer_5.append(Number_doors) \n",
    "        \n",
    "        answer_5 = [num.replace('5more','5') for num in answer_5] #converting strings to integers\n",
    "    \n",
    "    \n",
    "    answer_5 = [int(i) for i in answer_5]\n",
    "    print(answer_5)\n",
    "    \n",
    "   \n",
    "   "
   ]
  },
  {
   "cell_type": "code",
   "execution_count": 145,
   "metadata": {},
   "outputs": [
    {
     "name": "stdout",
     "output_type": "stream",
     "text": [
      "The average number of doors is: 3.3142857142857145\n"
     ]
    }
   ],
   "source": [
    "#Question 6- finding the average number of doors across all 35 cars \n",
    "\n",
    "print('The average number of doors is:', sum(answer_5) /(len(answer_5)))"
   ]
  },
  {
   "cell_type": "code",
   "execution_count": null,
   "metadata": {},
   "outputs": [],
   "source": []
  },
  {
   "cell_type": "code",
   "execution_count": 117,
   "metadata": {},
   "outputs": [
    {
     "name": "stdout",
     "output_type": "stream",
     "text": [
      "\u001b[H\u001b[2J"
     ]
    }
   ],
   "source": []
  },
  {
   "cell_type": "code",
   "execution_count": null,
   "metadata": {},
   "outputs": [],
   "source": [
    "\n"
   ]
  }
 ],
 "metadata": {
  "kernelspec": {
   "display_name": "Python 3",
   "language": "python",
   "name": "python3"
  },
  "language_info": {
   "codemirror_mode": {
    "name": "ipython",
    "version": 3
   },
   "file_extension": ".py",
   "mimetype": "text/x-python",
   "name": "python",
   "nbconvert_exporter": "python",
   "pygments_lexer": "ipython3",
   "version": "3.7.1"
  }
 },
 "nbformat": 4,
 "nbformat_minor": 2
}
