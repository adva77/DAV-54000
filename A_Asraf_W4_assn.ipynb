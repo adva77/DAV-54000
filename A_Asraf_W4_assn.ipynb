{
 "cells": [
  {
   "cell_type": "code",
   "execution_count": 1,
   "metadata": {},
   "outputs": [
    {
     "name": "stdout",
     "output_type": "stream",
     "text": [
      "[2 4]\n"
     ]
    }
   ],
   "source": [
    "import numpy as np\n",
    "\n",
    "\n",
    "a = np.array([1, 2, 3, 2, 3, 4, 3, 4, 5, 6])\n",
    "b = np.array([7, 2, 10, 2, 7, 4, 9, 4, 9, 8])\n",
    "\n",
    "print(np.intersect1d(a, b)) #Sorted 1D array of common and unique elements"
   ]
  },
  {
   "cell_type": "code",
   "execution_count": 2,
   "metadata": {},
   "outputs": [
    {
     "name": "stdout",
     "output_type": "stream",
     "text": [
      "[[ 1.  6. 11.]\n",
      " [ 2.  7. 12.]\n",
      " [ 3.  8. 13.]\n",
      " [ 4.  9. 14.]\n",
      " [ 5. 10. 15.]]\n"
     ]
    }
   ],
   "source": [
    "\n",
    "def question2(): \n",
    "    array = np.zeros(shape=(5,3))\n",
    "    key = 0\n",
    "    for i in range(3):\n",
    "        for x in range(5):\n",
    "            key+=1\n",
    "            array[x][i] = key\n",
    "    return(array)\n",
    "print(question2())"
   ]
  },
  {
   "cell_type": "code",
   "execution_count": 14,
   "metadata": {},
   "outputs": [
    {
     "name": "stdout",
     "output_type": "stream",
     "text": [
      "[12  5  7 15  3  1  8]\n",
      "[14  6  3 11 19 12  5]\n",
      "[ 7 15  1  8]\n"
     ]
    }
   ],
   "source": [
    "def question3():\n",
    "    a = np.array([12, 5, 7, 15, 3, 1, 8])\n",
    "    b = np.array([14, 6, 3, 11, 19, 12, 5])\n",
    "    print(a)\n",
    "    print(b)\n",
    "    answer = []\n",
    "    index_list = []\n",
    "    for i in range(7):\n",
    "        if a[i] in b:\n",
    "            index_list.append(i)  \n",
    "    answer = np.delete(a,index_list)\n",
    "    return answer\n",
    "print(question3())"
   ]
  },
  {
   "cell_type": "markdown",
   "metadata": {},
   "source": [
    "***Question #4***\n",
    "\n",
    "I created a numpy array and filled it randomly using numpy random\n",
    "function, , given a range of 0-65, spread over 35 days. \n",
    "On the basis of this array cumulative miles are calculated.\n",
    "To know the miles covered per day, each element in cumulative_miles array\n",
    "is subtracted from the previous one and stored in daily_miles array."
   ]
  },
  {
   "cell_type": "code",
   "execution_count": 15,
   "metadata": {},
   "outputs": [
    {
     "name": "stdout",
     "output_type": "stream",
     "text": [
      "Cumulative miles  [ 52.  69. 102. 153. 162. 162. 181. 195. 230. 248. 248. 286. 296. 337.\n",
      " 391. 391. 410. 426. 478. 527. 527. 534. 561. 624. 643. 662. 713. 738.\n",
      " 747. 791. 793. 812. 817. 824. 828.]\n",
      "Miles covered per day  [52. 17. 33. 51.  9.  0. 19. 14. 35. 18.  0. 38. 10. 41. 54.  0. 19. 16.\n",
      " 52. 49.  0.  7. 27. 63. 19. 19. 51. 25.  9. 44.  2. 19.  5.  7.  4.]\n"
     ]
    }
   ],
   "source": [
    "def question4():\n",
    "    array = np.random.randint(0,65,35)\n",
    "    count = 0\n",
    "    for i in range(4):\n",
    "        count+=5\n",
    "        array[count]=0\n",
    "    \n",
    "    cumulative_results = np.zeros(shape=(35))\n",
    "    for i in range (35):\n",
    "        if i == 0:\n",
    "            cumulative_results[i] = array[i]\n",
    "        else:\n",
    "            cumulative_results[i] = cumulative_results[i-1]+array[i] \n",
    "                \n",
    "    print('Cumulative miles ', cumulative_results)\n",
    "    daily_miles_results = np.zeros(shape=(35))\n",
    "    \n",
    "    for y in range(35):\n",
    "        if y == 0:\n",
    "            daily_miles_results[y] = cumulative_results[y]\n",
    "        else:\n",
    "            daily_miles_results[y] = cumulative_results[y]-cumulative_results[y-1]\n",
    "    print('Miles covered per day ', daily_miles_results)\n",
    "    \n",
    "question4()"
   ]
  },
  {
   "cell_type": "markdown",
   "metadata": {},
   "source": [
    "***Question #5***\n",
    "\n",
    "I used numpy.genfromtxt to read the csv file and loaded it as a numpy array.\n",
    "I used numpy.genfromtxt to read the csv file and loaded it as a numpy array.\n",
    "The data type of this array is kept 'unicode' because the table's first row has \n",
    "string while rest of it is int and float.\n",
    "To get the desired values from each column, I treated each column separately.\n",
    "I had to convert the data type of each column to a float. \n"
   ]
  },
  {
   "cell_type": "code",
   "execution_count": 16,
   "metadata": {},
   "outputs": [
    {
     "name": "stdout",
     "output_type": "stream",
     "text": [
      "[['Year' 'New York City Population'\n",
      "  'NYC Consumption(Million gallons per day)'\n",
      "  'Per Capita(Gallons per person per day)']\n",
      " ['1979' '7102100' '1512' '213']\n",
      " ['1980' '7071639' '1506' '213']\n",
      " ['1981' '7089241' '1309' '185']\n",
      " ['1982' '7109105' '1382' '194']\n",
      " ['1983' '7181224' '1424' '198']\n",
      " ['1984' '7234514' '1465' '203']\n",
      " ['1985' '7274054' '1326' '182']\n",
      " ['1986' '7319246' '1351' '185']\n",
      " ['1987' '7342476' '1447' '197']\n",
      " ['1988' '7353719' '1484' '202']\n",
      " ['1989' '7344175' '1402' '191']\n",
      " ['1990' '7335650' '1424' '194']\n",
      " ['1991' '7374501' '1469' '199']\n",
      " ['1992' '7428944' '1369' '184']\n",
      " ['1993' '7506166' '1368.5' '182']\n",
      " ['1994' '7570458' '1357.7' '179']\n",
      " ['1995' '7633040' '1325.7' '174']\n",
      " ['1996' '7697812' '1297.9' '169']\n",
      " ['1997' '7773443' '1205.5' '155']\n",
      " ['1998' '7858259' '1219.5' '155']\n",
      " ['1999' '7947660' '1237.2' '156']\n",
      " ['2000' '8008278' '1240.4' '155']\n",
      " ['2001' '8024963.5' '1184' '148']\n",
      " ['2002' '8041649' '1135.6' '141']\n",
      " ['2003' '8058334.5' '1093.7' '136']\n",
      " ['2004' '8075020' '1099.5' '136']\n",
      " ['2005' '8091705.5' '1138' '141']\n",
      " ['2006' '8108391' '1069' '132']\n",
      " ['2007' '8125076.5' '1114' '137']\n",
      " ['2008' '8141762' '1098' '135']\n",
      " ['2009' '8158447.5' '1007.5' '123']\n",
      " ['2010' '8175133' '1039' '127']\n",
      " ['2011' '8284098' '1021' '123']\n",
      " ['2012' '8361179' '1009.1' '121']\n",
      " ['2013' '8422460' '1006.1' '119']\n",
      " ['2014' '8471990' '996' '118']\n",
      " ['2015' '8516502' '1009' '118']\n",
      " ['2016' '8537673' '1002' '117']\n",
      " ['2017' '8622698' '990.2' '115']]\n",
      "\n",
      "1: Maximum yearly NYC consumption of water in millions of gallons per day: 1512\n",
      "\n",
      "2: Number of years presented in this data is 39.\n",
      "\n",
      "3: Mean and Standard deviation of per capita is 160.30769230769232 and 31.51894330370624 respectively.\n",
      "\n",
      "4: Increase and decrease in population is as follows:\n",
      "\n",
      "Decrease in value -30461.0\n",
      "Increase in value 17602.0\n",
      "Increase in value 19864.0\n",
      "Increase in value 72119.0\n",
      "Increase in value 53290.0\n",
      "Increase in value 39540.0\n",
      "Increase in value 45192.0\n",
      "Increase in value 23230.0\n",
      "Increase in value 11243.0\n",
      "Decrease in value -9544.0\n",
      "Decrease in value -8525.0\n",
      "Increase in value 38851.0\n",
      "Increase in value 54443.0\n",
      "Increase in value 77222.0\n",
      "Increase in value 64292.0\n",
      "Increase in value 62582.0\n",
      "Increase in value 64772.0\n",
      "Increase in value 75631.0\n",
      "Increase in value 84816.0\n",
      "Increase in value 89401.0\n",
      "Increase in value 60618.0\n",
      "Increase in value 16685.5\n",
      "Increase in value 16685.5\n",
      "Increase in value 16685.5\n",
      "Increase in value 16685.5\n",
      "Increase in value 16685.5\n",
      "Increase in value 16685.5\n",
      "Increase in value 16685.5\n",
      "Increase in value 16685.5\n",
      "Increase in value 16685.5\n",
      "Increase in value 16685.5\n",
      "Increase in value 108965.0\n",
      "Increase in value 77081.0\n",
      "Increase in value 61281.0\n",
      "Increase in value 49530.0\n",
      "Increase in value 44512.0\n",
      "Increase in value 21171.0\n",
      "Increase in value 85025.0\n"
     ]
    }
   ],
   "source": [
    "def question5():\n",
    "    \n",
    "    d=np.genfromtxt('https://raw.githubusercontent.com/jtopor/DAV-5400/master/Week4/Water_Consumption_In_The_New_York_City.csv',delimiter=',',dtype=np.unicode)\n",
    "    print(d)\n",
    "    x=d[1:,2]\n",
    "    x=x.astype('float64')\n",
    "    x=x.max()\n",
    "    print('\\n1: Maximum yearly NYC consumption of water in millions of gallons per day:',int(x))\n",
    "    \n",
    "    years = len(d)-1\n",
    "    print('\\n2: Number of years presented in this data is '+str(years)+'.\\n')\n",
    "    \n",
    "    y=d[1:,3]\n",
    "    y=y.astype('float64')\n",
    "    \n",
    "    mean = np.mean(y)\n",
    "    std_dev = np.std(y)\n",
    "    \n",
    "    print('3: Mean and Standard deviation of per capita is',mean,'and',std_dev,'respectively.\\n')\n",
    "    print('4: Increase and decrease in population is as follows:\\n')\n",
    "    population = d[1:,1]\n",
    "    population = population.astype('float64')\n",
    "    pop_diff = np.diff(population)\n",
    "    for i in pop_diff:\n",
    "        if i < 0:\n",
    "            print(\"Decrease in value\",i)\n",
    "        else:\n",
    "            print(\"Increase in value\",i)\n",
    "question5()"
   ]
  }
 ],
 "metadata": {
  "kernelspec": {
   "display_name": "Python 3",
   "language": "python",
   "name": "python3"
  },
  "language_info": {
   "codemirror_mode": {
    "name": "ipython",
    "version": 3
   },
   "file_extension": ".py",
   "mimetype": "text/x-python",
   "name": "python",
   "nbconvert_exporter": "python",
   "pygments_lexer": "ipython3",
   "version": "3.7.1"
  }
 },
 "nbformat": 4,
 "nbformat_minor": 2
}
