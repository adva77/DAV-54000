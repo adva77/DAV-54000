{
 "cells": [
  {
   "cell_type": "markdown",
   "metadata": {},
   "source": [
    "## DAV 5400 Spring 2019 Week 8 Assignment "
   ]
  },
  {
   "cell_type": "code",
   "execution_count": 7,
   "metadata": {},
   "outputs": [],
   "source": [
    "import re"
   ]
  },
  {
   "cell_type": "markdown",
   "metadata": {},
   "source": [
    "### __Question #1__\n",
    "*** \n",
    "Extract the names of each individual from the unformatted text string and store them in a vector of some sort."
   ]
  },
  {
   "cell_type": "code",
   "execution_count": 8,
   "metadata": {},
   "outputs": [
    {
     "name": "stdout",
     "output_type": "stream",
     "text": [
      "['Moe Szyslak', 'Burns, C. Montgomery', 'Rev. Timothy Lovejoy', 'Ned Flanders', 'Simpson, Homer', 'Dr. Julius Hibbert']\n"
     ]
    }
   ],
   "source": [
    "\n",
    "names = \"555-1239Moe Szyslak(636)555-0113Burns, C. Montgomery555-6542Rev. Timothy Lovejoy5558904Ned Flanders636-555-3226Simpson, Homer5553642Dr. Julius Hibbert\"\n",
    "r = re.compile('[a-zA-Z .,\\s]+')\n",
    "r = r.findall(names)\n",
    "print(r)\n"
   ]
  },
  {
   "cell_type": "markdown",
   "metadata": {},
   "source": [
    "### __Question #2__\n",
    "***\n",
    "Using your new vector containing only the names of the six individuals, complete the following tasks: \n",
    "\n"
   ]
  },
  {
   "cell_type": "markdown",
   "metadata": {},
   "source": [
    "\n",
    "__A.__ Use your regex skills to rearrange the vector so that all elements confrom to the standard \"first name, lastname”, preserving any titles (e.g., “Rev.”, “Dr.”, etc) or middle/second names."
   ]
  },
  {
   "cell_type": "code",
   "execution_count": 17,
   "metadata": {},
   "outputs": [
    {
     "name": "stdout",
     "output_type": "stream",
     "text": [
      "['C. Montgomery Burns'] ['Homer Simpson']\n"
     ]
    }
   ],
   "source": [
    "\n",
    "name_2=r[1]\n",
    "name_5=r[4]\n",
    "\n",
    "x1 = re.sub(\"(.*)(C. Montgomery)\", \"\\\\2 \\\\1 \", name_2)\n",
    "x2 = re.sub(\"(.*)(Homer)\", \"\\\\2 \\\\1 \", name_5)\n",
    "y = re.compile('^(.+?),')\n",
    "\n",
    "y1 = y.findall(x1)\n",
    "y2 = y.findall(x2)\n",
    "print(y1,y2,)"
   ]
  },
  {
   "cell_type": "markdown",
   "metadata": {},
   "source": [
    "\n",
    "__B.__ Construct a logical vector indicating whether a character has a title (i.e., Rev. and Dr.). \n",
    "\n"
   ]
  },
  {
   "cell_type": "code",
   "execution_count": 6,
   "metadata": {},
   "outputs": [
    {
     "name": "stdout",
     "output_type": "stream",
     "text": [
      "Name:  Rev. Timothy Lovejoy has title ['Rev.']\n",
      "Name:  Dr. Julius Hibbert has title ['Dr.']\n"
     ]
    }
   ],
   "source": [
    "\n",
    "y=re.compile(r'Rev.|Dr.')\n",
    "for i in range(len(r)):\n",
    "    check = y.findall(r[i])\n",
    "    if check:\n",
    "        print(\"Name: \",r[i],'has title',check)\n"
   ]
  },
  {
   "cell_type": "markdown",
   "metadata": {},
   "source": [
    "\n",
    "__C.__ Construct a logical vector indicating whether a character has a middle/second name."
   ]
  },
  {
   "cell_type": "code",
   "execution_count": 21,
   "metadata": {},
   "outputs": [
    {
     "name": "stdout",
     "output_type": "stream",
     "text": [
      "Burns, C. Montgomery\n"
     ]
    }
   ],
   "source": [
    "\n",
    "x=re.compile('[:alpha:]{1} ?') \n",
    "for i in range(6): \n",
    "    x1=x.findall(r[i]) \n",
    "    if not x1: \n",
    "        print(r[i])\n"
   ]
  },
  {
   "cell_type": "markdown",
   "metadata": {},
   "source": [
    "### __Question #3__\n",
    "***\n",
    "Consider the HTML string. \n",
    "We would like to extract the first HTML tag. To do so we write the regular expression “<.+>”. Explain why this fails and correct the expression."
   ]
  },
  {
   "cell_type": "code",
   "execution_count": 409,
   "metadata": {},
   "outputs": [
    {
     "data": {
      "text/plain": [
       "'<title>'"
      ]
     },
     "execution_count": 409,
     "metadata": {},
     "output_type": "execute_result"
    }
   ],
   "source": [
    "\n",
    "html_text  = r'<title>+++BREAKING NEWS+++</title>'\n",
    "#Following one is the correct regex\n",
    "re.match(r'<.+?>', html_text).group()"
   ]
  },
  {
   "cell_type": "markdown",
   "metadata": {},
   "source": [
    "### __Question #4__\n",
    "***\n",
    "Consider the string “(5-3)^2=5^2-2*5*3+3^2” conforms to the binomial theorem. We would like to extract the\n",
    " formula in the string. To do so we write the regular expression “[^0-9=+*()]+”. Explain why this fails and correct the expression."
   ]
  },
  {
   "cell_type": "code",
   "execution_count": 14,
   "metadata": {},
   "outputs": [
    {
     "data": {
      "text/plain": [
       "['(5-3)^2=5^2-2*5*3+3^2']"
      ]
     },
     "execution_count": 14,
     "metadata": {},
     "output_type": "execute_result"
    }
   ],
   "source": [
    "\n",
    "st = \"(5-3)^2=5^2-2*5*3+3^2\"\n",
    "\n",
    "#Following one is the correct regex\n",
    "regex = re.compile('[-0-9=+*()^]+')\n",
    "regex.findall(st)"
   ]
  },
  {
   "cell_type": "code",
   "execution_count": null,
   "metadata": {},
   "outputs": [],
   "source": []
  }
 ],
 "metadata": {
  "kernelspec": {
   "display_name": "Python 3",
   "language": "python",
   "name": "python3"
  },
  "language_info": {
   "codemirror_mode": {
    "name": "ipython",
    "version": 3
   },
   "file_extension": ".py",
   "mimetype": "text/x-python",
   "name": "python",
   "nbconvert_exporter": "python",
   "pygments_lexer": "ipython3",
   "version": "3.7.1"
  }
 },
 "nbformat": 4,
 "nbformat_minor": 2
}
