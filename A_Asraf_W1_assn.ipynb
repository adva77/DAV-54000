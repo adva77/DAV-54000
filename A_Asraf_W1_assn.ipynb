{
 "cells": [
  {
   "cell_type": "markdown",
   "metadata": {},
   "source": [
    "GitHub link:\n",
    "    https://github.com/adva77/DAV-54000/tree/master/terrorism\n",
    "        \n",
    "Original link:\n",
    "    https://fivethirtyeight.com/features/the-rise-of-religiously-inspired-terrorism-in-france/"
   ]
  },
  {
   "cell_type": "markdown",
   "metadata": {},
   "source": [
    "I found the dataset very interestign due to the fact that in recent years terrorism based \n",
    "on religion has been on the rise in Europe as a result of new religion based militant groups. \n",
    "I would like to explore when the rise took place, compare it to world events at that \n",
    "time in order to see if there was a specific influence and to analyze the patters, that is, \n",
    "if there is one. "
   ]
  },
  {
   "cell_type": "markdown",
   "metadata": {},
   "source": [
    "\n",
    "In addition, I would also like to compare between the leaders at the time of the attack. \n",
    "Perhaps the different characteristics of the leaders was also a contributin. "
   ]
  }
 ],
 "metadata": {
  "kernelspec": {
   "display_name": "Python 3",
   "language": "python",
   "name": "python3"
  },
  "language_info": {
   "codemirror_mode": {
    "name": "ipython",
    "version": 3
   },
   "file_extension": ".py",
   "mimetype": "text/x-python",
   "name": "python",
   "nbconvert_exporter": "python",
   "pygments_lexer": "ipython3",
   "version": "3.7.1"
  }
 },
 "nbformat": 4,
 "nbformat_minor": 2
}
